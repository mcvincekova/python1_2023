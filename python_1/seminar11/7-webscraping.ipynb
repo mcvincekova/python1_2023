{
 "cells": [
  {
   "attachments": {},
   "cell_type": "markdown",
   "metadata": {},
   "source": [
    " # Webscraping\n",
    " Odkaz na lekci: https://kodim.cz/kurzy/python-data-1/ziskavani-dat/webscraping"
   ]
  },
  {
   "attachments": {},
   "cell_type": "markdown",
   "metadata": {},
   "source": [
    "Dokumentace modulu `requests-html`: https://requests.readthedocs.io/projects/requests-html/en/latest/"
   ]
  },
  {
   "cell_type": "code",
   "execution_count": 2,
   "metadata": {},
   "outputs": [],
   "source": [
    "from requests_html import HTML\n",
    "from requests_html import HTMLSession"
   ]
  },
  {
   "cell_type": "code",
   "execution_count": 3,
   "metadata": {},
   "outputs": [],
   "source": [
    "with open('ukazka.html', encoding='utf-8') as soubor:\n",
    "    obsah = soubor.read()\n",
    "\n",
    "html = HTML(html=obsah)\n",
    "# html.html"
   ]
  },
  {
   "attachments": {},
   "cell_type": "markdown",
   "metadata": {},
   "source": [
    "Vyhledávání v HTML podle jména značky:"
   ]
  },
  {
   "cell_type": "code",
   "execution_count": 4,
   "metadata": {},
   "outputs": [
    {
     "data": {
      "text/plain": [
       "[<Element 'p' >, <Element 'p' >]"
      ]
     },
     "execution_count": 4,
     "metadata": {},
     "output_type": "execute_result"
    }
   ],
   "source": [
    "html.find('p')"
   ]
  },
  {
   "attachments": {},
   "cell_type": "markdown",
   "metadata": {},
   "source": [
    "Vyhledávání v HTML podle více značek:"
   ]
  },
  {
   "cell_type": "code",
   "execution_count": 5,
   "metadata": {},
   "outputs": [
    {
     "data": {
      "text/plain": [
       "[<Element 'h1' >, <Element 'h2' >]"
      ]
     },
     "execution_count": 5,
     "metadata": {},
     "output_type": "execute_result"
    }
   ],
   "source": [
    "html.find('h1, h2')"
   ]
  },
  {
   "attachments": {},
   "cell_type": "markdown",
   "metadata": {},
   "source": [
    "Každý objekt typu `Element` má atribut `.text`:"
   ]
  },
  {
   "cell_type": "code",
   "execution_count": 6,
   "metadata": {},
   "outputs": [
    {
     "name": "stdout",
     "output_type": "stream",
     "text": [
      "Text nějakého odstavce, který obsahuje zvýrazněný text a také důležitý text.\n",
      "Druhý odstavec je v takzvaném divu, což je značka, která nemá sama o sobě žádný význam. Také zde máme odkaz na stránky Czechitas.\n"
     ]
    }
   ],
   "source": [
    "for odstavec in html.find('p'):\n",
    "    print(odstavec.text)"
   ]
  },
  {
   "attachments": {},
   "cell_type": "markdown",
   "metadata": {},
   "source": [
    "Vyhledávání v HTML podle třídy (atribut `class`):"
   ]
  },
  {
   "cell_type": "code",
   "execution_count": 7,
   "metadata": {},
   "outputs": [
    {
     "data": {
      "text/plain": [
       "[<Element 'div' class=('sekce1',)>]"
      ]
     },
     "execution_count": 7,
     "metadata": {},
     "output_type": "execute_result"
    }
   ],
   "source": [
    "html.find('.sekce1')"
   ]
  },
  {
   "attachments": {},
   "cell_type": "markdown",
   "metadata": {},
   "source": [
    "Přístup k atributům - jak najít adresy všech odkazů na naší stránce?"
   ]
  },
  {
   "cell_type": "code",
   "execution_count": 8,
   "metadata": {},
   "outputs": [
    {
     "name": "stdout",
     "output_type": "stream",
     "text": [
      "\"http;://www.czechitas.cz\"\n"
     ]
    }
   ],
   "source": [
    "for odkaz in html.find('a'):\n",
    "    print(odkaz.attrs['href'])"
   ]
  },
  {
   "attachments": {},
   "cell_type": "markdown",
   "metadata": {},
   "source": [
    "Vyhledávání podle hodnoty atributu"
   ]
  },
  {
   "cell_type": "code",
   "execution_count": 9,
   "metadata": {},
   "outputs": [
    {
     "data": {
      "text/plain": [
       "[<Element 'ol' type='a'>]"
      ]
     },
     "execution_count": 9,
     "metadata": {},
     "output_type": "execute_result"
    }
   ],
   "source": [
    "html.find('ol[type=\"a\"]')\n"
   ]
  },
  {
   "cell_type": "code",
   "execution_count": 10,
   "metadata": {},
   "outputs": [
    {
     "data": {
      "text/plain": [
       "[<Element 'li' >, <Element 'li' >, <Element 'li' >]"
      ]
     },
     "execution_count": 10,
     "metadata": {},
     "output_type": "execute_result"
    }
   ],
   "source": [
    "html.find('ol[type=\"a\"] li')"
   ]
  },
  {
   "attachments": {},
   "cell_type": "markdown",
   "metadata": {},
   "source": [
    "## Scraping z internetu"
   ]
  },
  {
   "cell_type": "code",
   "execution_count": 11,
   "metadata": {},
   "outputs": [],
   "source": [
    "session = HTMLSession()\n",
    "\n",
    "stranka = session.get('https://apps.kodim.cz/python-data/scrape')"
   ]
  },
  {
   "cell_type": "code",
   "execution_count": 12,
   "metadata": {},
   "outputs": [
    {
     "name": "stdout",
     "output_type": "stream",
     "text": [
      "Text nějakého odstavce, který obsahuje zvýrazněný text a také důležitý text.\n",
      "Druhý odstavec je v takzvaném divu, což je značka, která nemá sama o sobě žádný význam. Také zde máme odkaz na stránky Czechitas.\n"
     ]
    }
   ],
   "source": [
    "for odstavec in stranka.html.find('p'):\n",
    "    print(odstavec.text)"
   ]
  },
  {
   "attachments": {},
   "cell_type": "markdown",
   "metadata": {},
   "source": [
    "## Webscraping pomocí `pandas.read_html`\n",
    "\n",
    "Nainstalujte si ještě jeden balíček, který se jmenuje `html5lib`:\n",
    "\n",
    "Windows: \n",
    "```\n",
    "pip install html5lib\n",
    "```\n",
    "\n",
    "Mac/Linux:\n",
    "```\n",
    "pip3 install html5lib\n",
    "```"
   ]
  },
  {
   "cell_type": "code",
   "execution_count": 13,
   "metadata": {},
   "outputs": [],
   "source": [
    "import pandas"
   ]
  },
  {
   "attachments": {},
   "cell_type": "markdown",
   "metadata": {},
   "source": [
    "Data: \"Děti, žáci, studenti podle státního občanství\" (ČSÚ)"
   ]
  },
  {
   "cell_type": "code",
   "execution_count": 14,
   "metadata": {},
   "outputs": [],
   "source": [
    "url = \"https://vdb.czso.cz/vdbvo2/faces/cs/index.jsf?page=vystup-objekt&z=T&f=TABULKA&skupId=1127&katalog=30848&pvo=VZD13b&pvo=VZD13b&u=v4__VUZEMI__97__19\"\n",
    "dfs = pandas.read_html(url)\n",
    "# dfs"
   ]
  },
  {
   "cell_type": "code",
   "execution_count": 15,
   "metadata": {},
   "outputs": [],
   "source": [
    "# Tabulka na indexu 6 obsahuje data, která nás zajímají\n",
    "df = dfs[6]"
   ]
  },
  {
   "cell_type": "code",
   "execution_count": 16,
   "metadata": {},
   "outputs": [
    {
     "data": {
      "text/html": [
       "<div>\n",
       "<style scoped>\n",
       "    .dataframe tbody tr th:only-of-type {\n",
       "        vertical-align: middle;\n",
       "    }\n",
       "\n",
       "    .dataframe tbody tr th {\n",
       "        vertical-align: top;\n",
       "    }\n",
       "\n",
       "    .dataframe thead th {\n",
       "        text-align: right;\n",
       "    }\n",
       "</style>\n",
       "<table border=\"1\" class=\"dataframe\">\n",
       "  <thead>\n",
       "    <tr style=\"text-align: right;\">\n",
       "      <th></th>\n",
       "      <th>pocet</th>\n",
       "    </tr>\n",
       "  </thead>\n",
       "  <tbody>\n",
       "    <tr>\n",
       "      <th>2006/2007</th>\n",
       "      <td>2 815</td>\n",
       "    </tr>\n",
       "    <tr>\n",
       "      <th>2007/2008</th>\n",
       "      <td>3 306</td>\n",
       "    </tr>\n",
       "    <tr>\n",
       "      <th>2008/2009</th>\n",
       "      <td>3 691</td>\n",
       "    </tr>\n",
       "    <tr>\n",
       "      <th>2009/2010</th>\n",
       "      <td>3 781</td>\n",
       "    </tr>\n",
       "    <tr>\n",
       "      <th>2010/2011</th>\n",
       "      <td>3 914</td>\n",
       "    </tr>\n",
       "    <tr>\n",
       "      <th>2011/2012</th>\n",
       "      <td>4 237</td>\n",
       "    </tr>\n",
       "    <tr>\n",
       "      <th>2012/2013</th>\n",
       "      <td>4 471</td>\n",
       "    </tr>\n",
       "    <tr>\n",
       "      <th>2013/2014</th>\n",
       "      <td>4 852</td>\n",
       "    </tr>\n",
       "    <tr>\n",
       "      <th>2014/2015</th>\n",
       "      <td>5 334</td>\n",
       "    </tr>\n",
       "    <tr>\n",
       "      <th>2015/2016</th>\n",
       "      <td>5 865</td>\n",
       "    </tr>\n",
       "    <tr>\n",
       "      <th>2016/2017</th>\n",
       "      <td>6 549</td>\n",
       "    </tr>\n",
       "    <tr>\n",
       "      <th>2017/2018</th>\n",
       "      <td>7 157</td>\n",
       "    </tr>\n",
       "    <tr>\n",
       "      <th>2018/2019</th>\n",
       "      <td>7 803</td>\n",
       "    </tr>\n",
       "    <tr>\n",
       "      <th>2019/2020</th>\n",
       "      <td>8 325</td>\n",
       "    </tr>\n",
       "    <tr>\n",
       "      <th>2020/2021</th>\n",
       "      <td>8 499</td>\n",
       "    </tr>\n",
       "    <tr>\n",
       "      <th>2021/2022</th>\n",
       "      <td>8 689</td>\n",
       "    </tr>\n",
       "  </tbody>\n",
       "</table>\n",
       "</div>"
      ],
      "text/plain": [
       "           pocet\n",
       "2006/2007  2 815\n",
       "2007/2008  3 306\n",
       "2008/2009  3 691\n",
       "2009/2010  3 781\n",
       "2010/2011  3 914\n",
       "2011/2012  4 237\n",
       "2012/2013  4 471\n",
       "2013/2014  4 852\n",
       "2014/2015  5 334\n",
       "2015/2016  5 865\n",
       "2016/2017  6 549\n",
       "2017/2018  7 157\n",
       "2018/2019  7 803\n",
       "2019/2020  8 325\n",
       "2020/2021  8 499\n",
       "2021/2022  8 689"
      ]
     },
     "execution_count": 16,
     "metadata": {},
     "output_type": "execute_result"
    }
   ],
   "source": [
    "staty_eu = df.iloc[3, 4:]\n",
    "staty_eu = staty_eu.reset_index(level=0)\n",
    "staty_eu = staty_eu.drop(columns=['level_0'])\n",
    "staty_eu = staty_eu.rename(columns={3: 'pocet'})\n",
    "staty_eu"
   ]
  },
  {
   "cell_type": "code",
   "execution_count": 17,
   "metadata": {},
   "outputs": [
    {
     "data": {
      "text/html": [
       "<div>\n",
       "<style scoped>\n",
       "    .dataframe tbody tr th:only-of-type {\n",
       "        vertical-align: middle;\n",
       "    }\n",
       "\n",
       "    .dataframe tbody tr th {\n",
       "        vertical-align: top;\n",
       "    }\n",
       "\n",
       "    .dataframe thead th {\n",
       "        text-align: right;\n",
       "    }\n",
       "</style>\n",
       "<table border=\"1\" class=\"dataframe\">\n",
       "  <thead>\n",
       "    <tr style=\"text-align: right;\">\n",
       "      <th></th>\n",
       "      <th>pocet</th>\n",
       "    </tr>\n",
       "  </thead>\n",
       "  <tbody>\n",
       "    <tr>\n",
       "      <th>2006/2007</th>\n",
       "      <td>4 769</td>\n",
       "    </tr>\n",
       "    <tr>\n",
       "      <th>2007/2008</th>\n",
       "      <td>4 703</td>\n",
       "    </tr>\n",
       "    <tr>\n",
       "      <th>2008/2009</th>\n",
       "      <td>4 945</td>\n",
       "    </tr>\n",
       "    <tr>\n",
       "      <th>2009/2010</th>\n",
       "      <td>5 233</td>\n",
       "    </tr>\n",
       "    <tr>\n",
       "      <th>2010/2011</th>\n",
       "      <td>5 418</td>\n",
       "    </tr>\n",
       "    <tr>\n",
       "      <th>2011/2012</th>\n",
       "      <td>5 565</td>\n",
       "    </tr>\n",
       "    <tr>\n",
       "      <th>2012/2013</th>\n",
       "      <td>5 627</td>\n",
       "    </tr>\n",
       "    <tr>\n",
       "      <th>2013/2014</th>\n",
       "      <td>5 702</td>\n",
       "    </tr>\n",
       "    <tr>\n",
       "      <th>2014/2015</th>\n",
       "      <td>6 256</td>\n",
       "    </tr>\n",
       "    <tr>\n",
       "      <th>2015/2016</th>\n",
       "      <td>7 027</td>\n",
       "    </tr>\n",
       "    <tr>\n",
       "      <th>2016/2017</th>\n",
       "      <td>7 791</td>\n",
       "    </tr>\n",
       "    <tr>\n",
       "      <th>2017/2018</th>\n",
       "      <td>8 407</td>\n",
       "    </tr>\n",
       "    <tr>\n",
       "      <th>2018/2019</th>\n",
       "      <td>9 290</td>\n",
       "    </tr>\n",
       "    <tr>\n",
       "      <th>2019/2020</th>\n",
       "      <td>10 456</td>\n",
       "    </tr>\n",
       "    <tr>\n",
       "      <th>2020/2021</th>\n",
       "      <td>11 477</td>\n",
       "    </tr>\n",
       "    <tr>\n",
       "      <th>2021/2022</th>\n",
       "      <td>12 890</td>\n",
       "    </tr>\n",
       "  </tbody>\n",
       "</table>\n",
       "</div>"
      ],
      "text/plain": [
       "            pocet\n",
       "2006/2007   4 769\n",
       "2007/2008   4 703\n",
       "2008/2009   4 945\n",
       "2009/2010   5 233\n",
       "2010/2011   5 418\n",
       "2011/2012   5 565\n",
       "2012/2013   5 627\n",
       "2013/2014   5 702\n",
       "2014/2015   6 256\n",
       "2015/2016   7 027\n",
       "2016/2017   7 791\n",
       "2017/2018   8 407\n",
       "2018/2019   9 290\n",
       "2019/2020  10 456\n",
       "2020/2021  11 477\n",
       "2021/2022  12 890"
      ]
     },
     "execution_count": 17,
     "metadata": {},
     "output_type": "execute_result"
    }
   ],
   "source": [
    "ostatni_evropske_staty = df.iloc[4, 4:]\n",
    "ostatni_evropske_staty = ostatni_evropske_staty.reset_index(level=0)\n",
    "ostatni_evropske_staty = ostatni_evropske_staty.drop(columns=['level_0'])\n",
    "ostatni_evropske_staty = ostatni_evropske_staty.rename(columns={4: 'pocet'})\n",
    "ostatni_evropske_staty"
   ]
  },
  {
   "cell_type": "code",
   "execution_count": 18,
   "metadata": {},
   "outputs": [
    {
     "data": {
      "text/html": [
       "<div>\n",
       "<style scoped>\n",
       "    .dataframe tbody tr th:only-of-type {\n",
       "        vertical-align: middle;\n",
       "    }\n",
       "\n",
       "    .dataframe tbody tr th {\n",
       "        vertical-align: top;\n",
       "    }\n",
       "\n",
       "    .dataframe thead th {\n",
       "        text-align: right;\n",
       "    }\n",
       "</style>\n",
       "<table border=\"1\" class=\"dataframe\">\n",
       "  <thead>\n",
       "    <tr style=\"text-align: right;\">\n",
       "      <th></th>\n",
       "      <th>pocet_ostatni_evropske_staty</th>\n",
       "      <th>pocet_EU</th>\n",
       "    </tr>\n",
       "  </thead>\n",
       "  <tbody>\n",
       "    <tr>\n",
       "      <th>2006/2007</th>\n",
       "      <td>4769</td>\n",
       "      <td>2815</td>\n",
       "    </tr>\n",
       "    <tr>\n",
       "      <th>2007/2008</th>\n",
       "      <td>4703</td>\n",
       "      <td>3306</td>\n",
       "    </tr>\n",
       "    <tr>\n",
       "      <th>2008/2009</th>\n",
       "      <td>4945</td>\n",
       "      <td>3691</td>\n",
       "    </tr>\n",
       "    <tr>\n",
       "      <th>2009/2010</th>\n",
       "      <td>5233</td>\n",
       "      <td>3781</td>\n",
       "    </tr>\n",
       "    <tr>\n",
       "      <th>2010/2011</th>\n",
       "      <td>5418</td>\n",
       "      <td>3914</td>\n",
       "    </tr>\n",
       "    <tr>\n",
       "      <th>2011/2012</th>\n",
       "      <td>5565</td>\n",
       "      <td>4237</td>\n",
       "    </tr>\n",
       "    <tr>\n",
       "      <th>2012/2013</th>\n",
       "      <td>5627</td>\n",
       "      <td>4471</td>\n",
       "    </tr>\n",
       "    <tr>\n",
       "      <th>2013/2014</th>\n",
       "      <td>5702</td>\n",
       "      <td>4852</td>\n",
       "    </tr>\n",
       "    <tr>\n",
       "      <th>2014/2015</th>\n",
       "      <td>6256</td>\n",
       "      <td>5334</td>\n",
       "    </tr>\n",
       "    <tr>\n",
       "      <th>2015/2016</th>\n",
       "      <td>7027</td>\n",
       "      <td>5865</td>\n",
       "    </tr>\n",
       "    <tr>\n",
       "      <th>2016/2017</th>\n",
       "      <td>7791</td>\n",
       "      <td>6549</td>\n",
       "    </tr>\n",
       "    <tr>\n",
       "      <th>2017/2018</th>\n",
       "      <td>8407</td>\n",
       "      <td>7157</td>\n",
       "    </tr>\n",
       "    <tr>\n",
       "      <th>2018/2019</th>\n",
       "      <td>9290</td>\n",
       "      <td>7803</td>\n",
       "    </tr>\n",
       "    <tr>\n",
       "      <th>2019/2020</th>\n",
       "      <td>10456</td>\n",
       "      <td>8325</td>\n",
       "    </tr>\n",
       "    <tr>\n",
       "      <th>2020/2021</th>\n",
       "      <td>11477</td>\n",
       "      <td>8499</td>\n",
       "    </tr>\n",
       "    <tr>\n",
       "      <th>2021/2022</th>\n",
       "      <td>12890</td>\n",
       "      <td>8689</td>\n",
       "    </tr>\n",
       "  </tbody>\n",
       "</table>\n",
       "</div>"
      ],
      "text/plain": [
       "           pocet_ostatni_evropske_staty  pocet_EU\n",
       "2006/2007                          4769      2815\n",
       "2007/2008                          4703      3306\n",
       "2008/2009                          4945      3691\n",
       "2009/2010                          5233      3781\n",
       "2010/2011                          5418      3914\n",
       "2011/2012                          5565      4237\n",
       "2012/2013                          5627      4471\n",
       "2013/2014                          5702      4852\n",
       "2014/2015                          6256      5334\n",
       "2015/2016                          7027      5865\n",
       "2016/2017                          7791      6549\n",
       "2017/2018                          8407      7157\n",
       "2018/2019                          9290      7803\n",
       "2019/2020                         10456      8325\n",
       "2020/2021                         11477      8499\n",
       "2021/2022                         12890      8689"
      ]
     },
     "execution_count": 18,
     "metadata": {},
     "output_type": "execute_result"
    }
   ],
   "source": [
    "data =  pandas.DataFrame(index=ostatni_evropske_staty.index)\n",
    "data['pocet_ostatni_evropske_staty'] = ostatni_evropske_staty['pocet'].str.split().str.join('').astype(int)\n",
    "data['pocet_EU'] = staty_eu['pocet'].str.split().str.join('').astype(int)\n",
    "data"
   ]
  },
  {
   "cell_type": "code",
   "execution_count": 19,
   "metadata": {},
   "outputs": [
    {
     "data": {
      "text/plain": [
       "<AxesSubplot:>"
      ]
     },
     "execution_count": 19,
     "metadata": {},
     "output_type": "execute_result"
    },
    {
     "data": {
      "image/png": "[encoded data removed]",
      "text/plain": [
       "<Figure size 1500x500 with 1 Axes>"
      ]
     },
     "metadata": {},
     "output_type": "display_data"
    }
   ],
   "source": [
    "data.plot(figsize=(15,5))"
   ]
  },
  {
   "attachments": {},
   "cell_type": "markdown",
   "metadata": {},
   "source": [
    "## Cviceni"
   ]
  },
  {
   "attachments": {},
   "cell_type": "markdown",
   "metadata": {},
   "source": [
    "Napište program, který bude pracovat se stránkou o DHMO na adrese https://apps.kodim.cz/python-data/dhmo.\n",
    "\n",
    "Nechť program vypíše na výstup nadpisy všech sekcí (značka h2).\n",
    "Nechť program vypíše na výstup cesty všech odkazů na stránce (značka a, atribut href).\n",
    "Nechť program vypíše na výstup cesty ke všem obrázkům na stránce (značka img, atribut src)."
   ]
  },
  {
   "cell_type": "code",
   "execution_count": 20,
   "metadata": {},
   "outputs": [],
   "source": [
    "from requests_html import HTMLSession, HTML"
   ]
  },
  {
   "cell_type": "code",
   "execution_count": 21,
   "metadata": {},
   "outputs": [],
   "source": [
    "def print_elem_attributes(input_page: HTML, element: str, attribute: str) -> None:\n",
    "    elements = input_page.find(element)\n",
    "    print(f\"All attributes {attribute} for each {element}.\")\n",
    "    for elem in elements:\n",
    "        print(elem.attrs[attribute])"
   ]
  },
  {
   "cell_type": "code",
   "execution_count": 22,
   "metadata": {},
   "outputs": [],
   "source": [
    "session = HTMLSession()\n",
    "stranka = session.get('https://apps.kodim.cz/python-data/dhmo')"
   ]
  },
  {
   "cell_type": "code",
   "execution_count": 23,
   "metadata": {},
   "outputs": [],
   "source": [
    "page_html = stranka.html"
   ]
  },
  {
   "cell_type": "code",
   "execution_count": 24,
   "metadata": {},
   "outputs": [
    {
     "name": "stdout",
     "output_type": "stream",
     "text": [
      "Strašák DHMO\n",
      "Další fakta\n",
      "Petice proti DHMO\n",
      "Odkazy\n"
     ]
    }
   ],
   "source": [
    "headlines = page_html.find(\"h2\")\n",
    "\n",
    "for headline in headlines:\n",
    "    print(headline.text)"
   ]
  },
  {
   "cell_type": "code",
   "execution_count": 25,
   "metadata": {},
   "outputs": [
    {
     "name": "stdout",
     "output_type": "stream",
     "text": [
      "All attributes href for each a.\n",
      "http://www.dhmo.org/\n",
      "http://www.matthew.at/dhm.pdf\n",
      "http://www.snopes.com/science/dhmo.asp\n"
     ]
    }
   ],
   "source": [
    "print_elem_attributes(page_html, \"a\", \"href\")\n"
   ]
  },
  {
   "cell_type": "code",
   "execution_count": 26,
   "metadata": {},
   "outputs": [
    {
     "name": "stdout",
     "output_type": "stream",
     "text": [
      "All attributes src for each img.\n",
      "img/dhmo.jpg\n",
      "img/dhmo-ban.png\n"
     ]
    }
   ],
   "source": [
    "print_elem_attributes(page_html, \"img\", \"src\")"
   ]
  },
  {
   "attachments": {},
   "cell_type": "markdown",
   "metadata": {},
   "source": [
    "Jistě vás nepřekvapí, že stránky, které právě čtete, se dají také snadno scrapovat.\n",
    "\n",
    "Napište program, který vypíše na výstup všechna cvičení z lekce Vstup a výstup spolu s jejich obtížností."
   ]
  },
  {
   "cell_type": "code",
   "execution_count": 27,
   "metadata": {},
   "outputs": [],
   "source": [
    "kodim_page = session.get(\"https://kodim.cz/kurzy/uvod-do-progr-1/prvni-krucky/vstup-vystup/excs\")\n",
    "kodim_page_html = kodim_page.html"
   ]
  },
  {
   "cell_type": "code",
   "execution_count": 28,
   "metadata": {},
   "outputs": [
    {
     "data": {
      "text/plain": [
       "<HTML url='https://kodim.cz/kurzy/uvod-do-progr-1/prvni-krucky/vstup-vystup/excs'>"
      ]
     },
     "execution_count": 28,
     "metadata": {},
     "output_type": "execute_result"
    }
   ],
   "source": [
    "kodim_page_html"
   ]
  },
  {
   "cell_type": "code",
   "execution_count": 29,
   "metadata": {},
   "outputs": [
    {
     "name": "stdout",
     "output_type": "stream",
     "text": [
      "Jednoduchý výstup\n",
      "Jednoduchý vstup\n",
      "Zakázka pro divadlo\n",
      "Házení kostkami\n",
      "Generátor čísel\n"
     ]
    }
   ],
   "source": [
    "classes = kodim_page_html.find(\".exercise-assign__title-anchor\")\n",
    "\n",
    "for c in classes:\n",
    "    print(c.text)"
   ]
  },
  {
   "cell_type": "code",
   "execution_count": 30,
   "metadata": {},
   "outputs": [
    {
     "name": "stdout",
     "output_type": "stream",
     "text": [
      "to dáš\n",
      "to dáš\n",
      "to dáš\n",
      "zavařovačka\n",
      "to dáš\n"
     ]
    }
   ],
   "source": [
    "difficulty = kodim_page_html.find(\".demand__text\")\n",
    "\n",
    "for d in difficulty:\n",
    "    print(d.text)"
   ]
  }
 ],
 "metadata": {
  "kernelspec": {
   "display_name": "base",
   "language": "python",
   "name": "python3"
  },
  "language_info": {
   "codemirror_mode": {
    "name": "ipython",
    "version": 3
   },
   "file_extension": ".py",
   "mimetype": "text/x-python",
   "name": "python",
   "nbconvert_exporter": "python",
   "pygments_lexer": "ipython3",
   "version": "3.8.8"
  },
  "orig_nbformat": 4,
  "vscode": {
   "interpreter": {
    "hash": "8d998c1de01f5a79eeeb03ceaf556682ae1f8e9a683875cb3016de929e981086"
   }
  }
 },
 "nbformat": 4,
 "nbformat_minor": 2
}
