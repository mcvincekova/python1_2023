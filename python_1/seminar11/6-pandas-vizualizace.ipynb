{
 "cells": [
  {
   "attachments": {},
   "cell_type": "markdown",
   "metadata": {},
   "source": [
    "# `pandas`: Vizualizace\n",
    "Odkaz na lekci: https://kodim.cz/kurzy/python-data-1/python-pro-data-1/vizualizace/vizualizace"
   ]
  },
  {
   "cell_type": "code",
   "execution_count": null,
   "metadata": {},
   "outputs": [],
   "source": [
    "import pandas"
   ]
  },
  {
   "attachments": {},
   "cell_type": "markdown",
   "metadata": {},
   "source": [
    "### Načtení dat\n",
    "\n",
    "Data, se kterými budeme pracovat, si můžeš stáhnout zde:\n",
    "* [ucet.csv](https://kodim.cz/cms/assets/kurzy/python-data-1/python-pro-data-1/vizualizace/ucet.csv)"
   ]
  },
  {
   "cell_type": "code",
   "execution_count": null,
   "metadata": {},
   "outputs": [],
   "source": [
    "ucet = pandas.read_csv(\"ucet.csv\", names=['datum', 'pohyb'], index_col='datum')"
   ]
  },
  {
   "cell_type": "code",
   "execution_count": null,
   "metadata": {},
   "outputs": [],
   "source": [
    "ucet.plot()"
   ]
  },
  {
   "cell_type": "code",
   "execution_count": null,
   "metadata": {},
   "outputs": [],
   "source": [
    "ucet.cumsum().plot()"
   ]
  },
  {
   "attachments": {},
   "cell_type": "markdown",
   "metadata": {},
   "source": [
    "Nastavení typu grafu, barvy, mřížky:"
   ]
  },
  {
   "cell_type": "code",
   "execution_count": null,
   "metadata": {},
   "outputs": [],
   "source": [
    "ucet.cumsum().plot(kind='bar', color='green', grid=True)"
   ]
  },
  {
   "attachments": {},
   "cell_type": "markdown",
   "metadata": {},
   "source": [
    "Nastavení velikosti grafu v notebooku:"
   ]
  },
  {
   "cell_type": "code",
   "execution_count": null,
   "metadata": {},
   "outputs": [],
   "source": [
    "ucet.cumsum().plot(kind='bar', color='green', grid=True, figsize=(10, 5))"
   ]
  },
  {
   "attachments": {},
   "cell_type": "markdown",
   "metadata": {},
   "source": [
    "## Další typy grafů\n",
    "Vytvoříme si tabulku, která obsahuje měření výšek mužů a žen:"
   ]
  },
  {
   "cell_type": "code",
   "execution_count": null,
   "metadata": {},
   "outputs": [],
   "source": [
    "vysky = pandas.DataFrame(\n",
    "    {\n",
    "        'muzi': [\n",
    "            179.3, 183.7, 181.4, 176.0, 183.6, 184.7, 163.4, 180.3,\n",
    "            167.5, 166.8, 173.5, 172.5, 173.0, 177.6, 176.0, 179.5,\n",
    "            182.6, 172.0, 183.2, 177.0, 176.2, 175.7, 174.3, 180.3,\n",
    "            184.9, 171.1, 182.3, 169.7, 181.3, 188.8, 176.8, 159.0,\n",
    "            180.3, 198.5, 185.8, 191.0, 170.9, 196.0, 183.3, 183.0,\n",
    "            189.9, 184.8, 184.0, 183.1, 184.0, 190.7, 191.7, 187.8,\n",
    "            177.5, 177.5, 189.2, 188.4, 195.0, 204.2, 180.2, 181.3,\n",
    "            178.2, 182.6, 172.1, 175.7, 180.7, 181.2, 165.0, 188.6\n",
    "        ], \n",
    "        'zeny': [\n",
    "            172.0, 169.0, 166.8, 164.6, 172.7, 171.5, 167.0, 167.0,\n",
    "            168.3, 184.7, 166.0, 160.0, 168.8, 165.8, 173.5, 163.0,\n",
    "            168.9, 158.4, 166.4, 169.4, 174.2, 175.6, 167.2, 168.0,\n",
    "            171.5, 168.8, 168.9, 174.1, 169.0, 170.7, 156.3, 174.8,\n",
    "            169.1, 161.4, 172.5, 166.1, 171.5, 163.9, 164.5, 169.0,\n",
    "            168.5, 163.3, 169.5, 167.4, 175.5, 165.0, 166.6, 158.9,\n",
    "            164.5, 168.7, 161.6, 175.8, 179.0, 167.9, 161.1, 167.6,\n",
    "            165.9, 165.2, 176.0, 179.4, 160.1, 163.8, 177.7, 160.4\n",
    "        ]\n",
    "    }\n",
    ")\n",
    "vysky"
   ]
  },
  {
   "attachments": {},
   "cell_type": "markdown",
   "metadata": {},
   "source": [
    "## Histogram"
   ]
  },
  {
   "cell_type": "code",
   "execution_count": null,
   "metadata": {},
   "outputs": [],
   "source": [
    "vysky['muzi'].plot(kind='hist', bins=5, grid=True)"
   ]
  },
  {
   "cell_type": "code",
   "execution_count": null,
   "metadata": {},
   "outputs": [],
   "source": [
    "vysky.plot(kind='hist', bins=5, grid=True, subplots=True)"
   ]
  },
  {
   "cell_type": "code",
   "execution_count": null,
   "metadata": {},
   "outputs": [],
   "source": [
    "vysky.plot(kind='hist', bins=[150, 155, 160, 165, 170, 175, 180, 185, 190, 195, 200, 205, 210], grid=True, subplots=True)"
   ]
  },
  {
   "attachments": {},
   "cell_type": "markdown",
   "metadata": {},
   "source": [
    "## Krabicový graf (boxplot)"
   ]
  },
  {
   "cell_type": "code",
   "execution_count": null,
   "metadata": {},
   "outputs": [],
   "source": [
    "vysky.plot(kind='box', whis=[0, 100])"
   ]
  },
  {
   "attachments": {},
   "cell_type": "markdown",
   "metadata": {},
   "source": [
    "# Cvičení\n",
    "## [Hurá na hory](https://kodim.cz/kurzy/python-data-1/python-pro-data-1/vizualizace/excs#excs%3Ehura-na-hory)\n",
    "Následující data obsahují úhrnné množství sněhu (v cm) napadlé za každý rok pro posledních 50 let pro dva lyžarské resorty. První sloupec je rok, druhý jsou data pro resort Hora šílenství, třetí jsou data pro resort Prašné údolí.\n",
    "\n",
    "Použijte krabicový graf k porovnání sněhových srážek v obou resortech. Do kterého byste se vypravili příští rok na lyže a proč?"
   ]
  },
  {
   "cell_type": "code",
   "execution_count": null,
   "metadata": {},
   "outputs": [],
   "source": [
    "snih = [\n",
    "    [1968, 480, 351],\n",
    "    [1969, 462, 663],\n",
    "    [1970, 443, 490],\n",
    "    [1971, 518, 444],\n",
    "    [1972, 537, 420],\n",
    "    [1973, 446, 941],\n",
    "    [1974, 446, 691],\n",
    "    [1975, 450, 477],\n",
    "    [1976, 356, 395],\n",
    "    [1977, 381, 652],\n",
    "    [1978, 345, 525],\n",
    "    [1979, 430, 762],\n",
    "    [1980, 266, 316],\n",
    "    [1981, 533, 781],\n",
    "    [1982, 471, 769],\n",
    "    [1983, 407, 801],\n",
    "    [1984, 526, 633],\n",
    "    [1985, 391, 488],\n",
    "    [1986, 361, 624],\n",
    "    [1987, 470, 471],\n",
    "    [1988, 506, 514],\n",
    "    [1989, 333, 208],\n",
    "    [1990, 462, 909],\n",
    "    [1991, 438, 443],\n",
    "    [1992, 364, 488],\n",
    "    [1993, 452, 579],\n",
    "    [1994, 484, 519],\n",
    "    [1995, 460, 809],\n",
    "    [1996, 465, 682],\n",
    "    [1997, 431, 814],\n",
    "    [1998, 463, 595],\n",
    "    [1999, 460, 512],\n",
    "    [2000, 503, 750],\n",
    "    [2001, 462, 951],\n",
    "    [2002, 429, 413],\n",
    "    [2003, 405, 738],\n",
    "    [2004, 477, 777],\n",
    "    [2005, 385, 316],\n",
    "    [2006, 368, 417],\n",
    "    [2007, 513, 635],\n",
    "    [2008, 448, 689],\n",
    "    [2009, 525, 443],\n",
    "    [2010, 427, 225],\n",
    "    [2011, 460, 618],\n",
    "    [2012, 417, 742],\n",
    "    [2013, 517, 247],\n",
    "    [2014, 466, 552],\n",
    "    [2015, 523, 441],\n",
    "    [2016, 422, 690],\n",
    "    [2017, 420, 699]\n",
    "]"
   ]
  },
  {
   "cell_type": "code",
   "execution_count": null,
   "metadata": {},
   "outputs": [],
   "source": [
    "snih = pandas.DataFrame(snih, columns=['rok', 'hora', 'udoli'])\n",
    "snih = snih.set_index('rok')\n",
    "snih.head()"
   ]
  },
  {
   "cell_type": "code",
   "execution_count": null,
   "metadata": {},
   "outputs": [],
   "source": [
    "snih.plot()"
   ]
  },
  {
   "cell_type": "code",
   "execution_count": null,
   "metadata": {},
   "outputs": [],
   "source": [
    "snih.plot(kind='hist', alpha=0.5)  # Jeden graf\n",
    "\n",
    "# snih.plot(kind='hist', grid=True, subplots=True, ylim=(0, 25))  # Dva grafy"
   ]
  },
  {
   "cell_type": "code",
   "execution_count": null,
   "metadata": {},
   "outputs": [],
   "source": [
    "snih.plot(kind='box')\n",
    "\n",
    "# snih.plot(kind='box', vert=False)  # Vertikálně"
   ]
  }
 ],
 "metadata": {
  "kernelspec": {
   "display_name": "Python 3",
   "language": "python",
   "name": "python3"
  },
  "language_info": {
   "codemirror_mode": {
    "name": "ipython",
    "version": 3
   },
   "file_extension": ".py",
   "mimetype": "text/x-python",
   "name": "python",
   "nbconvert_exporter": "python",
   "pygments_lexer": "ipython3",
   "version": "3.9.6"
  },
  "orig_nbformat": 4,
  "vscode": {
   "interpreter": {
    "hash": "31f2aee4e71d21fbe5cf8b01ff0e069b9275f58929596ceb00d14d90e3e16cd6"
   }
  }
 },
 "nbformat": 4,
 "nbformat_minor": 2
}
