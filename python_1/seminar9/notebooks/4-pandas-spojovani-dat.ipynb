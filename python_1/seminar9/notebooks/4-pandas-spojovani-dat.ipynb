{
 "cells": [
  {
   "attachments": {},
   "cell_type": "markdown",
   "metadata": {},
   "source": [
    "# `pandas`: Práce s chybějícími hodnotami, spojování dat\n",
    "Odkaz na lekci: https://kodim.cz/kurzy/python-data-1/python-pro-data-1/agregace-a-spojovani/pokrocile-upravy"
   ]
  },
  {
   "cell_type": "code",
   "execution_count": null,
   "metadata": {},
   "outputs": [],
   "source": [
    "import pandas"
   ]
  },
  {
   "attachments": {},
   "cell_type": "markdown",
   "metadata": {},
   "source": [
    "Data jsou tentokrát ve třech tabulkách:\n",
    "* [u202.csv](https://kodim.cz/cms/assets/kurzy/python-data-1/python-pro-data-1/agregace-a-spojovani/u202.csv)\n",
    "* [u203.csv](https://kodim.cz/cms/assets/kurzy/python-data-1/python-pro-data-1/agregace-a-spojovani/u203.csv)\n",
    "* [u302.csv](https://kodim.cz/cms/assets/kurzy/python-data-1/python-pro-data-1/agregace-a-spojovani/u302.csv)"
   ]
  },
  {
   "cell_type": "code",
   "execution_count": null,
   "metadata": {},
   "outputs": [],
   "source": [
    "u202 = pandas.read_csv(\"u202.csv\")\n",
    "u203 = pandas.read_csv(\"u203.csv\")\n",
    "u302 = pandas.read_csv(\"u302.csv\")"
   ]
  },
  {
   "attachments": {},
   "cell_type": "markdown",
   "metadata": {},
   "source": [
    "## Chybějící hodnoty"
   ]
  },
  {
   "cell_type": "code",
   "execution_count": null,
   "metadata": {},
   "outputs": [],
   "source": [
    "u202.info()"
   ]
  },
  {
   "cell_type": "code",
   "execution_count": null,
   "metadata": {},
   "outputs": [],
   "source": [
    "u202[\"znamka\"].isna()"
   ]
  },
  {
   "cell_type": "code",
   "execution_count": null,
   "metadata": {},
   "outputs": [],
   "source": [
    "u202.dropna(subset=[\"znamka\"])"
   ]
  },
  {
   "attachments": {},
   "cell_type": "markdown",
   "metadata": {},
   "source": [
    "## Spojení tabulek"
   ]
  },
  {
   "cell_type": "code",
   "execution_count": null,
   "metadata": {},
   "outputs": [],
   "source": [
    "pandas.concat([u202, u203])"
   ]
  },
  {
   "cell_type": "code",
   "execution_count": null,
   "metadata": {},
   "outputs": [],
   "source": []
  },
  {
   "attachments": {},
   "cell_type": "markdown",
   "metadata": {},
   "source": [
    "## Cviceni"
   ]
  },
  {
   "cell_type": "code",
   "execution_count": 29,
   "metadata": {},
   "outputs": [],
   "source": [
    "import pandas\n",
    "\n",
    "names = pandas.read_csv(\"https://kodim.cz/cms/assets/kurzy/python-data-1/python-pro-data-1/agregace-a-spojovani/excs/excs>studenti/jmena.csv\")\n",
    "students1 = pandas.read_csv(\"https://kodim.cz/cms/assets/kurzy/python-data-1/python-pro-data-1/agregace-a-spojovani/excs/excs>studenti/studenti1.csv\")\n",
    "students2 = pandas.read_csv(\"https://kodim.cz/cms/assets/kurzy/python-data-1/python-pro-data-1/agregace-a-spojovani/excs/excs>studenti/studenti2.csv\")"
   ]
  },
  {
   "cell_type": "code",
   "execution_count": 30,
   "metadata": {},
   "outputs": [
    {
     "data": {
      "text/html": [
       "<div>\n",
       "<style scoped>\n",
       "    .dataframe tbody tr th:only-of-type {\n",
       "        vertical-align: middle;\n",
       "    }\n",
       "\n",
       "    .dataframe tbody tr th {\n",
       "        vertical-align: top;\n",
       "    }\n",
       "\n",
       "    .dataframe thead th {\n",
       "        text-align: right;\n",
       "    }\n",
       "</style>\n",
       "<table border=\"1\" class=\"dataframe\">\n",
       "  <thead>\n",
       "    <tr style=\"text-align: right;\">\n",
       "      <th></th>\n",
       "      <th>jméno</th>\n",
       "      <th>příjmení</th>\n",
       "      <th>obor</th>\n",
       "      <th>ročník</th>\n",
       "      <th>kruh</th>\n",
       "      <th>prospěch</th>\n",
       "    </tr>\n",
       "  </thead>\n",
       "  <tbody>\n",
       "    <tr>\n",
       "      <th>0</th>\n",
       "      <td>Ludmila</td>\n",
       "      <td>Šindlerová</td>\n",
       "      <td>informatika a management</td>\n",
       "      <td>4.0</td>\n",
       "      <td>11.0</td>\n",
       "      <td>2.49</td>\n",
       "    </tr>\n",
       "    <tr>\n",
       "      <th>1</th>\n",
       "      <td>Jan</td>\n",
       "      <td>Pekárek</td>\n",
       "      <td>softwarové inženýrství</td>\n",
       "      <td>1.0</td>\n",
       "      <td>7.0</td>\n",
       "      <td>1.05</td>\n",
       "    </tr>\n",
       "    <tr>\n",
       "      <th>2</th>\n",
       "      <td>Milan</td>\n",
       "      <td>Weiss</td>\n",
       "      <td>počítačová grafika</td>\n",
       "      <td>5.0</td>\n",
       "      <td>11.0</td>\n",
       "      <td>2.62</td>\n",
       "    </tr>\n",
       "    <tr>\n",
       "      <th>3</th>\n",
       "      <td>Jiřina</td>\n",
       "      <td>Petrová</td>\n",
       "      <td>správa IT systémů</td>\n",
       "      <td>4.0</td>\n",
       "      <td>1.0</td>\n",
       "      <td>1.15</td>\n",
       "    </tr>\n",
       "    <tr>\n",
       "      <th>4</th>\n",
       "      <td>Josef</td>\n",
       "      <td>Navrátil</td>\n",
       "      <td>číslicová technika</td>\n",
       "      <td>5.0</td>\n",
       "      <td>7.0</td>\n",
       "      <td>2.42</td>\n",
       "    </tr>\n",
       "    <tr>\n",
       "      <th>...</th>\n",
       "      <td>...</td>\n",
       "      <td>...</td>\n",
       "      <td>...</td>\n",
       "      <td>...</td>\n",
       "      <td>...</td>\n",
       "      <td>...</td>\n",
       "    </tr>\n",
       "    <tr>\n",
       "      <th>340</th>\n",
       "      <td>Daniel</td>\n",
       "      <td>Brandstätter</td>\n",
       "      <td>informatika a management</td>\n",
       "      <td>4.0</td>\n",
       "      <td>2.0</td>\n",
       "      <td>2.05</td>\n",
       "    </tr>\n",
       "    <tr>\n",
       "      <th>341</th>\n",
       "      <td>Lukáš</td>\n",
       "      <td>Čech</td>\n",
       "      <td>informatika a management</td>\n",
       "      <td>5.0</td>\n",
       "      <td>NaN</td>\n",
       "      <td>1.59</td>\n",
       "    </tr>\n",
       "    <tr>\n",
       "      <th>342</th>\n",
       "      <td>Dagmar</td>\n",
       "      <td>Košanová</td>\n",
       "      <td>teoretická informatika</td>\n",
       "      <td>5.0</td>\n",
       "      <td>10.0</td>\n",
       "      <td>1.34</td>\n",
       "    </tr>\n",
       "    <tr>\n",
       "      <th>343</th>\n",
       "      <td>Ivana</td>\n",
       "      <td>Macháčková</td>\n",
       "      <td>webové inženýrství</td>\n",
       "      <td>1.0</td>\n",
       "      <td>NaN</td>\n",
       "      <td>2.92</td>\n",
       "    </tr>\n",
       "    <tr>\n",
       "      <th>344</th>\n",
       "      <td>Martina</td>\n",
       "      <td>Turková</td>\n",
       "      <td>softwarové inženýrství</td>\n",
       "      <td>5.0</td>\n",
       "      <td>8.0</td>\n",
       "      <td>1.54</td>\n",
       "    </tr>\n",
       "  </tbody>\n",
       "</table>\n",
       "<p>345 rows × 6 columns</p>\n",
       "</div>"
      ],
      "text/plain": [
       "       jméno      příjmení                      obor  ročník  kruh  prospěch\n",
       "0    Ludmila    Šindlerová  informatika a management     4.0  11.0      2.49\n",
       "1        Jan       Pekárek    softwarové inženýrství     1.0   7.0      1.05\n",
       "2      Milan         Weiss        počítačová grafika     5.0  11.0      2.62\n",
       "3     Jiřina       Petrová         správa IT systémů     4.0   1.0      1.15\n",
       "4      Josef      Navrátil        číslicová technika     5.0   7.0      2.42\n",
       "..       ...           ...                       ...     ...   ...       ...\n",
       "340   Daniel  Brandstätter  informatika a management     4.0   2.0      2.05\n",
       "341    Lukáš          Čech  informatika a management     5.0   NaN      1.59\n",
       "342   Dagmar      Košanová    teoretická informatika     5.0  10.0      1.34\n",
       "343    Ivana    Macháčková        webové inženýrství     1.0   NaN      2.92\n",
       "344  Martina       Turková    softwarové inženýrství     5.0   8.0      1.54\n",
       "\n",
       "[345 rows x 6 columns]"
      ]
     },
     "execution_count": 30,
     "metadata": {},
     "output_type": "execute_result"
    }
   ],
   "source": [
    "# Načti dva datové sety studentů do oddělených pandas DataFrame a pomocí funkce concat je spoj do jednoho setu.\n",
    "\n",
    "students = pandas.concat([students1, students2], ignore_index=True)\n",
    "students"
   ]
  },
  {
   "cell_type": "code",
   "execution_count": 31,
   "metadata": {},
   "outputs": [
    {
     "name": "stdout",
     "output_type": "stream",
     "text": [
      "<class 'pandas.core.frame.DataFrame'>\n",
      "RangeIndex: 345 entries, 0 to 344\n",
      "Data columns (total 6 columns):\n",
      " #   Column    Non-Null Count  Dtype  \n",
      "---  ------    --------------  -----  \n",
      " 0   jméno     345 non-null    object \n",
      " 1   příjmení  345 non-null    object \n",
      " 2   obor      345 non-null    object \n",
      " 3   ročník    312 non-null    float64\n",
      " 4   kruh      318 non-null    float64\n",
      " 5   prospěch  345 non-null    float64\n",
      "dtypes: float64(3), object(3)\n",
      "memory usage: 16.3+ KB\n"
     ]
    }
   ],
   "source": [
    "students.info()"
   ]
  },
  {
   "cell_type": "code",
   "execution_count": 33,
   "metadata": {},
   "outputs": [
    {
     "name": "stdout",
     "output_type": "stream",
     "text": [
      "<class 'pandas.core.frame.DataFrame'>\n",
      "Int64Index: 33 entries, 6 to 331\n",
      "Data columns (total 6 columns):\n",
      " #   Column    Non-Null Count  Dtype  \n",
      "---  ------    --------------  -----  \n",
      " 0   jméno     33 non-null     object \n",
      " 1   příjmení  33 non-null     object \n",
      " 2   obor      33 non-null     object \n",
      " 3   ročník    0 non-null      float64\n",
      " 4   kruh      31 non-null     float64\n",
      " 5   prospěch  33 non-null     float64\n",
      "dtypes: float64(3), object(3)\n",
      "memory usage: 1.8+ KB\n"
     ]
    }
   ],
   "source": [
    "# Pokud studentovi chybí ročník, znamená to, že již nestuduje. \n",
    "# Pokud mu chybí číslo skupiny, znamená to, že jde o dálkového studenta.\n",
    "# Kolik studentů v datovém setu již nestuduje a kolik jsou dálkoví studenti?\n",
    "no_longer_students = students[students[\"ročník\"].isnull()]\n",
    "no_longer_students.info()"
   ]
  },
  {
   "cell_type": "code",
   "execution_count": 22,
   "metadata": {},
   "outputs": [
    {
     "data": {
      "text/plain": [
       "27"
      ]
     },
     "execution_count": 22,
     "metadata": {},
     "output_type": "execute_result"
    }
   ],
   "source": [
    "remote_students = students[students[\"kruh\"].isnull()]\n",
    "len(remote_students)"
   ]
  },
  {
   "cell_type": "code",
   "execution_count": 25,
   "metadata": {},
   "outputs": [
    {
     "data": {
      "text/html": [
       "<div>\n",
       "<style scoped>\n",
       "    .dataframe tbody tr th:only-of-type {\n",
       "        vertical-align: middle;\n",
       "    }\n",
       "\n",
       "    .dataframe tbody tr th {\n",
       "        vertical-align: top;\n",
       "    }\n",
       "\n",
       "    .dataframe thead th {\n",
       "        text-align: right;\n",
       "    }\n",
       "</style>\n",
       "<table border=\"1\" class=\"dataframe\">\n",
       "  <thead>\n",
       "    <tr style=\"text-align: right;\">\n",
       "      <th></th>\n",
       "      <th>jméno</th>\n",
       "      <th>příjmení</th>\n",
       "      <th>obor</th>\n",
       "      <th>ročník</th>\n",
       "      <th>kruh</th>\n",
       "      <th>prospěch</th>\n",
       "    </tr>\n",
       "  </thead>\n",
       "  <tbody>\n",
       "    <tr>\n",
       "      <th>0</th>\n",
       "      <td>Ludmila</td>\n",
       "      <td>Šindlerová</td>\n",
       "      <td>informatika a management</td>\n",
       "      <td>4.0</td>\n",
       "      <td>11.0</td>\n",
       "      <td>2.49</td>\n",
       "    </tr>\n",
       "    <tr>\n",
       "      <th>1</th>\n",
       "      <td>Jan</td>\n",
       "      <td>Pekárek</td>\n",
       "      <td>softwarové inženýrství</td>\n",
       "      <td>1.0</td>\n",
       "      <td>7.0</td>\n",
       "      <td>1.05</td>\n",
       "    </tr>\n",
       "    <tr>\n",
       "      <th>2</th>\n",
       "      <td>Milan</td>\n",
       "      <td>Weiss</td>\n",
       "      <td>počítačová grafika</td>\n",
       "      <td>5.0</td>\n",
       "      <td>11.0</td>\n",
       "      <td>2.62</td>\n",
       "    </tr>\n",
       "    <tr>\n",
       "      <th>3</th>\n",
       "      <td>Jiřina</td>\n",
       "      <td>Petrová</td>\n",
       "      <td>správa IT systémů</td>\n",
       "      <td>4.0</td>\n",
       "      <td>1.0</td>\n",
       "      <td>1.15</td>\n",
       "    </tr>\n",
       "    <tr>\n",
       "      <th>4</th>\n",
       "      <td>Josef</td>\n",
       "      <td>Navrátil</td>\n",
       "      <td>číslicová technika</td>\n",
       "      <td>5.0</td>\n",
       "      <td>7.0</td>\n",
       "      <td>2.42</td>\n",
       "    </tr>\n",
       "    <tr>\n",
       "      <th>...</th>\n",
       "      <td>...</td>\n",
       "      <td>...</td>\n",
       "      <td>...</td>\n",
       "      <td>...</td>\n",
       "      <td>...</td>\n",
       "      <td>...</td>\n",
       "    </tr>\n",
       "    <tr>\n",
       "      <th>338</th>\n",
       "      <td>Klára</td>\n",
       "      <td>Valentová</td>\n",
       "      <td>správa IT systémů</td>\n",
       "      <td>1.0</td>\n",
       "      <td>11.0</td>\n",
       "      <td>1.10</td>\n",
       "    </tr>\n",
       "    <tr>\n",
       "      <th>339</th>\n",
       "      <td>Pavla</td>\n",
       "      <td>Veverková</td>\n",
       "      <td>počítačová grafika</td>\n",
       "      <td>4.0</td>\n",
       "      <td>6.0</td>\n",
       "      <td>2.98</td>\n",
       "    </tr>\n",
       "    <tr>\n",
       "      <th>340</th>\n",
       "      <td>Daniel</td>\n",
       "      <td>Brandstätter</td>\n",
       "      <td>informatika a management</td>\n",
       "      <td>4.0</td>\n",
       "      <td>2.0</td>\n",
       "      <td>2.05</td>\n",
       "    </tr>\n",
       "    <tr>\n",
       "      <th>342</th>\n",
       "      <td>Dagmar</td>\n",
       "      <td>Košanová</td>\n",
       "      <td>teoretická informatika</td>\n",
       "      <td>5.0</td>\n",
       "      <td>10.0</td>\n",
       "      <td>1.34</td>\n",
       "    </tr>\n",
       "    <tr>\n",
       "      <th>344</th>\n",
       "      <td>Martina</td>\n",
       "      <td>Turková</td>\n",
       "      <td>softwarové inženýrství</td>\n",
       "      <td>5.0</td>\n",
       "      <td>8.0</td>\n",
       "      <td>1.54</td>\n",
       "    </tr>\n",
       "  </tbody>\n",
       "</table>\n",
       "<p>287 rows × 6 columns</p>\n",
       "</div>"
      ],
      "text/plain": [
       "       jméno      příjmení                      obor  ročník  kruh  prospěch\n",
       "0    Ludmila    Šindlerová  informatika a management     4.0  11.0      2.49\n",
       "1        Jan       Pekárek    softwarové inženýrství     1.0   7.0      1.05\n",
       "2      Milan         Weiss        počítačová grafika     5.0  11.0      2.62\n",
       "3     Jiřina       Petrová         správa IT systémů     4.0   1.0      1.15\n",
       "4      Josef      Navrátil        číslicová technika     5.0   7.0      2.42\n",
       "..       ...           ...                       ...     ...   ...       ...\n",
       "338    Klára     Valentová         správa IT systémů     1.0  11.0      1.10\n",
       "339    Pavla     Veverková        počítačová grafika     4.0   6.0      2.98\n",
       "340   Daniel  Brandstätter  informatika a management     4.0   2.0      2.05\n",
       "342   Dagmar      Košanová    teoretická informatika     5.0  10.0      1.34\n",
       "344  Martina       Turková    softwarové inženýrství     5.0   8.0      1.54\n",
       "\n",
       "[287 rows x 6 columns]"
      ]
     },
     "execution_count": 25,
     "metadata": {},
     "output_type": "execute_result"
    }
   ],
   "source": [
    "# Vyčisti data od studentů, kteří nestudují nebo studují jen dálkově. Nadále budeme pracovat pouze s prezenčními studenty.\n",
    "\n",
    "current_students = students.dropna(subset=[\"ročník\", \"kruh\"])\n",
    "current_students"
   ]
  },
  {
   "cell_type": "code",
   "execution_count": 32,
   "metadata": {},
   "outputs": [
    {
     "name": "stdout",
     "output_type": "stream",
     "text": [
      "<class 'pandas.core.frame.DataFrame'>\n",
      "Int64Index: 287 entries, 0 to 344\n",
      "Data columns (total 6 columns):\n",
      " #   Column    Non-Null Count  Dtype  \n",
      "---  ------    --------------  -----  \n",
      " 0   jméno     287 non-null    object \n",
      " 1   příjmení  287 non-null    object \n",
      " 2   obor      287 non-null    object \n",
      " 3   ročník    287 non-null    float64\n",
      " 4   kruh      287 non-null    float64\n",
      " 5   prospěch  287 non-null    float64\n",
      "dtypes: float64(3), object(3)\n",
      "memory usage: 15.7+ KB\n"
     ]
    }
   ],
   "source": [
    "current_students.info()"
   ]
  }
 ],
 "metadata": {
  "kernelspec": {
   "display_name": "base",
   "language": "python",
   "name": "python3"
  },
  "language_info": {
   "codemirror_mode": {
    "name": "ipython",
    "version": 3
   },
   "file_extension": ".py",
   "mimetype": "text/x-python",
   "name": "python",
   "nbconvert_exporter": "python",
   "pygments_lexer": "ipython3",
   "version": "3.8.8"
  },
  "orig_nbformat": 4,
  "vscode": {
   "interpreter": {
    "hash": "8d998c1de01f5a79eeeb03ceaf556682ae1f8e9a683875cb3016de929e981086"
   }
  }
 },
 "nbformat": 4,
 "nbformat_minor": 2
}
