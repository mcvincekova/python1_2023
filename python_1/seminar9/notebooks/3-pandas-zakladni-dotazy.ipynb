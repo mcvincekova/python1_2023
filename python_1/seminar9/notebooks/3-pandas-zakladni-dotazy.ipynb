{
 "cells": [
  {
   "attachments": {},
   "cell_type": "markdown",
   "metadata": {},
   "source": [
    " # `pandas`: Základní dotazy\n",
    "Odkaz na lekci: https://kodim.cz/kurzy/python-data-1/python-pro-data-1/podmineny-vyber/podmineny-vyber"
   ]
  },
  {
   "cell_type": "code",
   "execution_count": null,
   "metadata": {},
   "outputs": [],
   "source": [
    "import pandas"
   ]
  },
  {
   "attachments": {},
   "cell_type": "markdown",
   "metadata": {},
   "source": [
    "Data si stáhni [zde](https://kodim.cz/cms/assets/kurzy/python-data-1/python-pro-data-1/nacteni-dat/staty.json). Jsou ve formátu JSON, proto použijeme vhodnou metodu `read_json`:"
   ]
  },
  {
   "cell_type": "code",
   "execution_count": null,
   "metadata": {},
   "outputs": [],
   "source": [
    "staty = pandas.read_json('../data/staty.json')\n",
    "staty"
   ]
  },
  {
   "attachments": {},
   "cell_type": "markdown",
   "metadata": {},
   "source": [
    "Ukážeme si, jak filtrovat řádky v tabulce na základě hodnot ve sloupcích. Například, které státy mají počet obyvatel menší než 1000?"
   ]
  },
  {
   "cell_type": "code",
   "execution_count": null,
   "metadata": {},
   "outputs": [],
   "source": [
    "print(staty[\"population\"] < 10_000)"
   ]
  },
  {
   "cell_type": "code",
   "execution_count": null,
   "metadata": {},
   "outputs": [],
   "source": [
    "staty[staty[\"population\"] < 10_000]"
   ]
  },
  {
   "attachments": {},
   "cell_type": "markdown",
   "metadata": {},
   "source": [
    "Které státy leží v subregionu `\"South America\"`?"
   ]
  },
  {
   "cell_type": "code",
   "execution_count": null,
   "metadata": {},
   "outputs": [],
   "source": [
    "staty[staty[\"subregion\"] == \"South America\"]"
   ]
  },
  {
   "attachments": {},
   "cell_type": "markdown",
   "metadata": {},
   "source": [
    "Které státy mají nízký index ekonomické nerovnosti, např. menší než 30?"
   ]
  },
  {
   "cell_type": "code",
   "execution_count": null,
   "metadata": {},
   "outputs": [],
   "source": [
    "staty[staty[\"gini\"] < 30]"
   ]
  },
  {
   "attachments": {},
   "cell_type": "markdown",
   "metadata": {},
   "source": [
    "## Kombinace podmínek\n",
    "Které státy jsou velké rozlohou (např. víc než 100 000), a mají zároveň malý počet obyvatel (méně než 1 milion)?"
   ]
  },
  {
   "cell_type": "code",
   "execution_count": null,
   "metadata": {},
   "outputs": [],
   "source": [
    "bool_index = (staty[\"population\"] > 100_000) & (staty[\"population\"] < 1_000_000)\n",
    "staty[bool_index]"
   ]
  },
  {
   "attachments": {},
   "cell_type": "markdown",
   "metadata": {},
   "source": [
    "Které státy leží v Evropě nebo v Africe?"
   ]
  },
  {
   "attachments": {},
   "cell_type": "markdown",
   "metadata": {},
   "source": []
  },
  {
   "attachments": {},
   "cell_type": "markdown",
   "metadata": {},
   "source": [
    "## Metoda `isin`\n",
    "Které státy leží v Evropě nebo v Africe?"
   ]
  },
  {
   "cell_type": "code",
   "execution_count": null,
   "metadata": {},
   "outputs": [],
   "source": [
    "# https://pandas.pydata.org/docs/reference/api/pandas.DataFrame.isin.html\n",
    "\n",
    "staty[staty[\"region\"].isin([\"Europe\", \"Africa\"])]"
   ]
  },
  {
   "attachments": {},
   "cell_type": "markdown",
   "metadata": {},
   "source": [
    "## Metoda `between`\n",
    "Které státy mají počet obyvatel mezi jedním a pěti miliony?"
   ]
  },
  {
   "cell_type": "code",
   "execution_count": null,
   "metadata": {},
   "outputs": [],
   "source": [
    "# https://pandas.pydata.org/docs/reference/api/pandas.Series.between.html\n",
    "\n",
    "staty[staty[\"population\"].between(1_000_000, 5_000_000)]"
   ]
  },
  {
   "attachments": {},
   "cell_type": "markdown",
   "metadata": {},
   "source": [
    "## Cvičení\n",
    "Odkaz na cvičení: https://kodim.cz/kurzy/python-data-1/python-pro-data-1/podmineny-vyber/podmineny-vyber#excs%3Eceska-jmena-2"
   ]
  },
  {
   "cell_type": "markdown",
   "metadata": {},
   "source": []
  },
  {
   "cell_type": "code",
   "execution_count": 64,
   "metadata": {},
   "outputs": [
    {
     "data": {
      "text/html": [
       "<div>\n",
       "<style scoped>\n",
       "    .dataframe tbody tr th:only-of-type {\n",
       "        vertical-align: middle;\n",
       "    }\n",
       "\n",
       "    .dataframe tbody tr th {\n",
       "        vertical-align: top;\n",
       "    }\n",
       "\n",
       "    .dataframe thead th {\n",
       "        text-align: right;\n",
       "    }\n",
       "</style>\n",
       "<table border=\"1\" class=\"dataframe\">\n",
       "  <thead>\n",
       "    <tr style=\"text-align: right;\">\n",
       "      <th></th>\n",
       "      <th>jméno</th>\n",
       "      <th>četnost</th>\n",
       "      <th>věk</th>\n",
       "      <th>pohlaví</th>\n",
       "      <th>svátek</th>\n",
       "      <th>původ</th>\n",
       "    </tr>\n",
       "  </thead>\n",
       "  <tbody>\n",
       "    <tr>\n",
       "      <th>0</th>\n",
       "      <td>Jiří</td>\n",
       "      <td>296090</td>\n",
       "      <td>49</td>\n",
       "      <td>m</td>\n",
       "      <td>24.4</td>\n",
       "      <td>řecký</td>\n",
       "    </tr>\n",
       "    <tr>\n",
       "      <th>1</th>\n",
       "      <td>Jan</td>\n",
       "      <td>293938</td>\n",
       "      <td>40</td>\n",
       "      <td>m</td>\n",
       "      <td>24.6. a 6.7</td>\n",
       "      <td>hebrejský</td>\n",
       "    </tr>\n",
       "    <tr>\n",
       "      <th>2</th>\n",
       "      <td>Petr</td>\n",
       "      <td>272135</td>\n",
       "      <td>42</td>\n",
       "      <td>m</td>\n",
       "      <td>22.2. a 29.6</td>\n",
       "      <td>řecký</td>\n",
       "    </tr>\n",
       "    <tr>\n",
       "      <th>3</th>\n",
       "      <td>Jana</td>\n",
       "      <td>264944</td>\n",
       "      <td>50</td>\n",
       "      <td>ž</td>\n",
       "      <td>24.5</td>\n",
       "      <td>hebrejský</td>\n",
       "    </tr>\n",
       "    <tr>\n",
       "      <th>4</th>\n",
       "      <td>Marie</td>\n",
       "      <td>260526</td>\n",
       "      <td>65</td>\n",
       "      <td>ž</td>\n",
       "      <td>12.9</td>\n",
       "      <td>hebrejský</td>\n",
       "    </tr>\n",
       "    <tr>\n",
       "      <th>...</th>\n",
       "      <td>...</td>\n",
       "      <td>...</td>\n",
       "      <td>...</td>\n",
       "      <td>...</td>\n",
       "      <td>...</td>\n",
       "      <td>...</td>\n",
       "    </tr>\n",
       "    <tr>\n",
       "      <th>95</th>\n",
       "      <td>Jindřich</td>\n",
       "      <td>26230</td>\n",
       "      <td>51</td>\n",
       "      <td>m</td>\n",
       "      <td>15.7</td>\n",
       "      <td>německý</td>\n",
       "    </tr>\n",
       "    <tr>\n",
       "      <th>96</th>\n",
       "      <td>Vlastimil</td>\n",
       "      <td>26014</td>\n",
       "      <td>54</td>\n",
       "      <td>m</td>\n",
       "      <td>17.3</td>\n",
       "      <td>slovanský</td>\n",
       "    </tr>\n",
       "    <tr>\n",
       "      <th>97</th>\n",
       "      <td>Iva</td>\n",
       "      <td>26003</td>\n",
       "      <td>46</td>\n",
       "      <td>ž</td>\n",
       "      <td>1.12</td>\n",
       "      <td>slovanský</td>\n",
       "    </tr>\n",
       "    <tr>\n",
       "      <th>98</th>\n",
       "      <td>Miloš</td>\n",
       "      <td>25509</td>\n",
       "      <td>53</td>\n",
       "      <td>m</td>\n",
       "      <td>25.1</td>\n",
       "      <td>slovanský</td>\n",
       "    </tr>\n",
       "    <tr>\n",
       "      <th>99</th>\n",
       "      <td>Zdenka</td>\n",
       "      <td>25416</td>\n",
       "      <td>68</td>\n",
       "      <td>ž</td>\n",
       "      <td>23.6</td>\n",
       "      <td>slovanský</td>\n",
       "    </tr>\n",
       "  </tbody>\n",
       "</table>\n",
       "<p>100 rows × 6 columns</p>\n",
       "</div>"
      ],
      "text/plain": [
       "        jméno  četnost  věk pohlaví        svátek      původ\n",
       "0        Jiří   296090   49       m          24.4      řecký\n",
       "1         Jan   293938   40       m   24.6. a 6.7  hebrejský\n",
       "2        Petr   272135   42       m  22.2. a 29.6      řecký\n",
       "3        Jana   264944   50       ž          24.5  hebrejský\n",
       "4       Marie   260526   65       ž          12.9  hebrejský\n",
       "..        ...      ...  ...     ...           ...        ...\n",
       "95   Jindřich    26230   51       m          15.7    německý\n",
       "96  Vlastimil    26014   54       m          17.3  slovanský\n",
       "97        Iva    26003   46       ž          1.12  slovanský\n",
       "98      Miloš    25509   53       m          25.1  slovanský\n",
       "99     Zdenka    25416   68       ž          23.6  slovanský\n",
       "\n",
       "[100 rows x 6 columns]"
      ]
     },
     "execution_count": 64,
     "metadata": {},
     "output_type": "execute_result"
    }
   ],
   "source": [
    "jmena = pandas.read_csv(\"../data/jmena.csv\", index_col=None)\n",
    "jmena"
   ]
  },
  {
   "cell_type": "code",
   "execution_count": 66,
   "metadata": {},
   "outputs": [
    {
     "data": {
      "text/html": [
       "<div>\n",
       "<style scoped>\n",
       "    .dataframe tbody tr th:only-of-type {\n",
       "        vertical-align: middle;\n",
       "    }\n",
       "\n",
       "    .dataframe tbody tr th {\n",
       "        vertical-align: top;\n",
       "    }\n",
       "\n",
       "    .dataframe thead th {\n",
       "        text-align: right;\n",
       "    }\n",
       "</style>\n",
       "<table border=\"1\" class=\"dataframe\">\n",
       "  <thead>\n",
       "    <tr style=\"text-align: right;\">\n",
       "      <th></th>\n",
       "      <th>jméno</th>\n",
       "      <th>četnost</th>\n",
       "      <th>věk</th>\n",
       "      <th>pohlaví</th>\n",
       "      <th>svátek</th>\n",
       "      <th>původ</th>\n",
       "    </tr>\n",
       "  </thead>\n",
       "  <tbody>\n",
       "    <tr>\n",
       "      <th>4</th>\n",
       "      <td>Marie</td>\n",
       "      <td>260526</td>\n",
       "      <td>65</td>\n",
       "      <td>ž</td>\n",
       "      <td>12.9</td>\n",
       "      <td>hebrejský</td>\n",
       "    </tr>\n",
       "    <tr>\n",
       "      <th>23</th>\n",
       "      <td>Věra</td>\n",
       "      <td>107388</td>\n",
       "      <td>63</td>\n",
       "      <td>ž</td>\n",
       "      <td>8.10</td>\n",
       "      <td>slovanský</td>\n",
       "    </tr>\n",
       "    <tr>\n",
       "      <th>30</th>\n",
       "      <td>Jaroslava</td>\n",
       "      <td>84556</td>\n",
       "      <td>63</td>\n",
       "      <td>ž</td>\n",
       "      <td>1.7</td>\n",
       "      <td>slovanský</td>\n",
       "    </tr>\n",
       "    <tr>\n",
       "      <th>38</th>\n",
       "      <td>Ludmila</td>\n",
       "      <td>72750</td>\n",
       "      <td>65</td>\n",
       "      <td>ž</td>\n",
       "      <td>16.9</td>\n",
       "      <td>slovanský</td>\n",
       "    </tr>\n",
       "    <tr>\n",
       "      <th>40</th>\n",
       "      <td>Zdeňka</td>\n",
       "      <td>69060</td>\n",
       "      <td>61</td>\n",
       "      <td>ž</td>\n",
       "      <td>23.6</td>\n",
       "      <td>slovanský</td>\n",
       "    </tr>\n",
       "    <tr>\n",
       "      <th>50</th>\n",
       "      <td>Jarmila</td>\n",
       "      <td>59666</td>\n",
       "      <td>65</td>\n",
       "      <td>ž</td>\n",
       "      <td>4.2</td>\n",
       "      <td>slovanský</td>\n",
       "    </tr>\n",
       "    <tr>\n",
       "      <th>53</th>\n",
       "      <td>Jiřina</td>\n",
       "      <td>55366</td>\n",
       "      <td>64</td>\n",
       "      <td>ž</td>\n",
       "      <td>15.2</td>\n",
       "      <td>řecký</td>\n",
       "    </tr>\n",
       "    <tr>\n",
       "      <th>64</th>\n",
       "      <td>Vlasta</td>\n",
       "      <td>41736</td>\n",
       "      <td>68</td>\n",
       "      <td>ž</td>\n",
       "      <td>23.12</td>\n",
       "      <td>slovanský</td>\n",
       "    </tr>\n",
       "    <tr>\n",
       "      <th>68</th>\n",
       "      <td>Božena</td>\n",
       "      <td>39851</td>\n",
       "      <td>72</td>\n",
       "      <td>ž</td>\n",
       "      <td>11.2</td>\n",
       "      <td>slovanský</td>\n",
       "    </tr>\n",
       "    <tr>\n",
       "      <th>70</th>\n",
       "      <td>Libuše</td>\n",
       "      <td>39269</td>\n",
       "      <td>66</td>\n",
       "      <td>ž</td>\n",
       "      <td>10.7</td>\n",
       "      <td>slovanský</td>\n",
       "    </tr>\n",
       "    <tr>\n",
       "      <th>71</th>\n",
       "      <td>Marta</td>\n",
       "      <td>38897</td>\n",
       "      <td>63</td>\n",
       "      <td>ž</td>\n",
       "      <td>29.7</td>\n",
       "      <td>aramejský</td>\n",
       "    </tr>\n",
       "    <tr>\n",
       "      <th>91</th>\n",
       "      <td>Růžena</td>\n",
       "      <td>28952</td>\n",
       "      <td>69</td>\n",
       "      <td>ž</td>\n",
       "      <td>13.3</td>\n",
       "      <td>slovanský</td>\n",
       "    </tr>\n",
       "    <tr>\n",
       "      <th>99</th>\n",
       "      <td>Zdenka</td>\n",
       "      <td>25416</td>\n",
       "      <td>68</td>\n",
       "      <td>ž</td>\n",
       "      <td>23.6</td>\n",
       "      <td>slovanský</td>\n",
       "    </tr>\n",
       "  </tbody>\n",
       "</table>\n",
       "</div>"
      ],
      "text/plain": [
       "        jméno  četnost  věk pohlaví svátek      původ\n",
       "4       Marie   260526   65       ž   12.9  hebrejský\n",
       "23       Věra   107388   63       ž   8.10  slovanský\n",
       "30  Jaroslava    84556   63       ž    1.7  slovanský\n",
       "38    Ludmila    72750   65       ž   16.9  slovanský\n",
       "40     Zdeňka    69060   61       ž   23.6  slovanský\n",
       "50    Jarmila    59666   65       ž    4.2  slovanský\n",
       "53     Jiřina    55366   64       ž   15.2      řecký\n",
       "64     Vlasta    41736   68       ž  23.12  slovanský\n",
       "68     Božena    39851   72       ž   11.2  slovanský\n",
       "70     Libuše    39269   66       ž   10.7  slovanský\n",
       "71      Marta    38897   63       ž   29.7  aramejský\n",
       "91     Růžena    28952   69       ž   13.3  slovanský\n",
       "99     Zdenka    25416   68       ž   23.6  slovanský"
      ]
     },
     "execution_count": 66,
     "metadata": {},
     "output_type": "execute_result"
    }
   ],
   "source": [
    "# Vypiš všechny řádky se jmény, jejichž nositelé mají průměrný věk vyšší než 60.\n",
    "\n",
    "jmena[jmena[\"věk\"] > 60]\n",
    "\n",
    "# jmena.query(\"věk > 60\")\n"
   ]
  },
  {
   "cell_type": "code",
   "execution_count": 67,
   "metadata": {},
   "outputs": [
    {
     "data": {
      "text/plain": [
       "29     Veronika\n",
       "30    Jaroslava\n",
       "31     Vladimír\n",
       "32       Tereza\n",
       "33      Martina\n",
       "Name: jméno, dtype: object"
      ]
     },
     "execution_count": 67,
     "metadata": {},
     "output_type": "execute_result"
    }
   ],
   "source": [
    "# Vypiš pouze jména z těch řádků, kde četnost je mezi 80 000 a 100 000.\n",
    "\n",
    "cetny = jmena[jmena[\"četnost\"].between(80000,100000, inclusive='neither')]\n",
    "cetny[\"jméno\"]"
   ]
  },
  {
   "cell_type": "code",
   "execution_count": 72,
   "metadata": {},
   "outputs": [
    {
     "name": "stdout",
     "output_type": "stream",
     "text": [
      "<class 'pandas.core.frame.DataFrame'>\n",
      "Int64Index: 43 entries, 0 to 94\n",
      "Data columns (total 2 columns):\n",
      " #   Column   Non-Null Count  Dtype \n",
      "---  ------   --------------  ----- \n",
      " 0   jméno    43 non-null     object\n",
      " 1   četnost  43 non-null     int64 \n",
      "dtypes: int64(1), object(1)\n",
      "memory usage: 1.0+ KB\n"
     ]
    }
   ],
   "source": [
    "# Vypiš jména a četnost pro jména se slovanským nebo hebrejským původem. Kolik takových jmen je?\n",
    "condition = (jmena[\"původ\"] == \"hebrejský\") | (jmena[\"původ\"] == \"řecký\")\n",
    "\n",
    "filtered_data = jmena[condition]\n",
    "filtered_data[[\"jméno\", \"četnost\"]].info()"
   ]
  },
  {
   "cell_type": "code",
   "execution_count": 75,
   "metadata": {},
   "outputs": [
    {
     "data": {
      "text/html": [
       "<div>\n",
       "<style scoped>\n",
       "    .dataframe tbody tr th:only-of-type {\n",
       "        vertical-align: middle;\n",
       "    }\n",
       "\n",
       "    .dataframe tbody tr th {\n",
       "        vertical-align: top;\n",
       "    }\n",
       "\n",
       "    .dataframe thead th {\n",
       "        text-align: right;\n",
       "    }\n",
       "</style>\n",
       "<table border=\"1\" class=\"dataframe\">\n",
       "  <thead>\n",
       "    <tr style=\"text-align: right;\">\n",
       "      <th></th>\n",
       "      <th>jméno</th>\n",
       "      <th>četnost</th>\n",
       "      <th>věk</th>\n",
       "      <th>pohlaví</th>\n",
       "      <th>svátek</th>\n",
       "      <th>původ</th>\n",
       "    </tr>\n",
       "  </thead>\n",
       "  <tbody>\n",
       "    <tr>\n",
       "      <th>83</th>\n",
       "      <td>Blanka</td>\n",
       "      <td>31516</td>\n",
       "      <td>54</td>\n",
       "      <td>ž</td>\n",
       "      <td>2.12</td>\n",
       "      <td>latinský</td>\n",
       "    </tr>\n",
       "    <tr>\n",
       "      <th>97</th>\n",
       "      <td>Iva</td>\n",
       "      <td>26003</td>\n",
       "      <td>46</td>\n",
       "      <td>ž</td>\n",
       "      <td>1.12</td>\n",
       "      <td>slovanský</td>\n",
       "    </tr>\n",
       "  </tbody>\n",
       "</table>\n",
       "</div>"
      ],
      "text/plain": [
       "     jméno  četnost  věk pohlaví svátek      původ\n",
       "83  Blanka    31516   54       ž   2.12   latinský\n",
       "97     Iva    26003   46       ž   1.12  slovanský"
      ]
     },
     "execution_count": 75,
     "metadata": {},
     "output_type": "execute_result"
    }
   ],
   "source": [
    "# Vypiš všechna jména, která mají svátek první 3 dny v prosinci.\n",
    "\n",
    "svatky = jmena[(jmena[\"svátek\"] == \"1.12\") | (jmena[\"svátek\"] == \"2.12\") | (jmena[\"svátek\"] == \"3.12\")]\n",
    "\n",
    "svatky2 = jmena[jmena[\"svátek\"].isin([\"1.12\", \"2.12\", \"3.12\"])]\n",
    "svatky"
   ]
  },
  {
   "cell_type": "code",
   "execution_count": 79,
   "metadata": {},
   "outputs": [
    {
     "name": "stdout",
     "output_type": "stream",
     "text": [
      "Pocet muzov: 9\n",
      "Pocet zien: 8\n"
     ]
    }
   ],
   "source": [
    "# Bonus 1: Zisti kolko muzskych a kolko zenskych mien latinskeho povodu sa nachadza v datach\n",
    "\n",
    "muzi = jmena.query(\"pohlaví == 'm' & původ == 'latinský'\")\n",
    "muzi_pocet = len(muzi)\n",
    "\n",
    "zeny = jmena.query(\"pohlaví == 'ž' & původ == 'latinský'\")\n",
    "zeny_pocet = len(zeny)\n",
    "\n",
    "print(f\"Pocet muzov: {muzi_pocet}\")\n",
    "print(f\"Pocet zien: {zeny_pocet}\")"
   ]
  },
  {
   "cell_type": "code",
   "execution_count": 81,
   "metadata": {},
   "outputs": [
    {
     "data": {
      "text/html": [
       "<div>\n",
       "<style scoped>\n",
       "    .dataframe tbody tr th:only-of-type {\n",
       "        vertical-align: middle;\n",
       "    }\n",
       "\n",
       "    .dataframe tbody tr th {\n",
       "        vertical-align: top;\n",
       "    }\n",
       "\n",
       "    .dataframe thead th {\n",
       "        text-align: right;\n",
       "    }\n",
       "</style>\n",
       "<table border=\"1\" class=\"dataframe\">\n",
       "  <thead>\n",
       "    <tr style=\"text-align: right;\">\n",
       "      <th></th>\n",
       "      <th>jméno</th>\n",
       "      <th>četnost</th>\n",
       "      <th>věk</th>\n",
       "      <th>pohlaví</th>\n",
       "      <th>svátek</th>\n",
       "      <th>původ</th>\n",
       "    </tr>\n",
       "  </thead>\n",
       "  <tbody>\n",
       "    <tr>\n",
       "      <th>23</th>\n",
       "      <td>Věra</td>\n",
       "      <td>107388</td>\n",
       "      <td>63</td>\n",
       "      <td>ž</td>\n",
       "      <td>8.10</td>\n",
       "      <td>slovanský</td>\n",
       "    </tr>\n",
       "    <tr>\n",
       "      <th>97</th>\n",
       "      <td>Iva</td>\n",
       "      <td>26003</td>\n",
       "      <td>46</td>\n",
       "      <td>ž</td>\n",
       "      <td>1.12</td>\n",
       "      <td>slovanský</td>\n",
       "    </tr>\n",
       "  </tbody>\n",
       "</table>\n",
       "</div>"
      ],
      "text/plain": [
       "   jméno  četnost  věk pohlaví svátek      původ\n",
       "23  Věra   107388   63       ž   8.10  slovanský\n",
       "97   Iva    26003   46       ž   1.12  slovanský"
      ]
     },
     "execution_count": 81,
     "metadata": {},
     "output_type": "execute_result"
    }
   ],
   "source": [
    "# Bonus 2: Vypis vsetky mena slovanskeho povodu, ktore su kratsie ako 5 znakov\n",
    "# napoveda: https://pandas.pydata.org/docs/reference/api/pandas.Series.str.len.html\n",
    "\n",
    "jmena[(jmena[\"jméno\"].str.len() < 5) & (jmena[\"původ\"] == \"slovanský\")]\n"
   ]
  }
 ],
 "metadata": {
  "kernelspec": {
   "display_name": "base",
   "language": "python",
   "name": "python3"
  },
  "language_info": {
   "codemirror_mode": {
    "name": "ipython",
    "version": 3
   },
   "file_extension": ".py",
   "mimetype": "text/x-python",
   "name": "python",
   "nbconvert_exporter": "python",
   "pygments_lexer": "ipython3",
   "version": "3.8.8"
  },
  "orig_nbformat": 4,
  "vscode": {
   "interpreter": {
    "hash": "8d998c1de01f5a79eeeb03ceaf556682ae1f8e9a683875cb3016de929e981086"
   }
  }
 },
 "nbformat": 4,
 "nbformat_minor": 2
}
